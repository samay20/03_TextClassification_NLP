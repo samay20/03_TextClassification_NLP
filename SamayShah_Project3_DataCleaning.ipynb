{
 "cells": [
  {
   "cell_type": "markdown",
   "metadata": {},
   "source": [
    "## Fetch Subreddits data using PushShift API"
   ]
  },
  {
   "cell_type": "markdown",
   "metadata": {},
   "source": [
    "<img src=\"Images/WordCloud-Black.png\"\n",
    "     alt=\"Markdown Monster icon\"\n",
    "     style=\"float: left; margin-right: 10px;\" />"
   ]
  },
  {
   "cell_type": "code",
   "execution_count": 1,
   "metadata": {},
   "outputs": [],
   "source": [
    "import numpy as np\n",
    "import pandas as pd\n",
    "import requests\n",
    "import datetime\n",
    "from json.decoder import JSONDecodeError"
   ]
  },
  {
   "cell_type": "code",
   "execution_count": null,
   "metadata": {},
   "outputs": [],
   "source": []
  },
  {
   "cell_type": "code",
   "execution_count": 2,
   "metadata": {},
   "outputs": [],
   "source": [
    "def importFoodComments(subreddit,size):\n",
    "    \n",
    "    ## Get latest 100 posts\n",
    "    url = 'https://api.pushshift.io/reddit/search/comment'\n",
    "\n",
    "    ## Dataframe to store all JapaneseFood posts\n",
    "    data_final = []\n",
    "\n",
    "    ## Starting Parameters\n",
    "    params = {\n",
    "        'subreddit' : subreddit,\n",
    "        'size' : 100,\n",
    "        }\n",
    "    ## Fetch Data for first 100 rows - max 1 time limit for API\n",
    "    res = requests.get(url,params)\n",
    "    print(res.status_code) ## Test Connection\n",
    "\n",
    "    ## Store data from API (.JSON format) to a list\n",
    "    data = res.json()\n",
    "    posts = data['data'] ## temp. list to store first 100 rows\n",
    "\n",
    "    ## Append first 100 rows to our main dataframe\n",
    "    data_final.append(posts)\n",
    "    \n",
    "    ## Get 3000 additional rows of data, based on time before the time for last post in our first 100 rows\n",
    "\n",
    "    lastdate = posts[-1]['created_utc']\n",
    "\n",
    "    add3000_posts = [] ## temp stores our additional 3000 rows\n",
    "\n",
    "    ## Loop 30 times (100 rows * 30 = 3000 rows)\n",
    "    \n",
    "    to_loop = size // 100\n",
    "    \n",
    "    for i in range(to_loop):\n",
    "\n",
    "        params2 = {\n",
    "        'subreddit' : subreddit,\n",
    "        'size' : 100,\n",
    "        'before' : lastdate ## Grab 100 more posted rows before last 100 rows (based on time).\n",
    "        }\n",
    "\n",
    "        res = requests.get(url,params2)\n",
    "        #print(res.status_code)\n",
    "\n",
    "        data = res.json()\n",
    "        new_posts = data['data']  \n",
    "        #print(len(new_posts))\n",
    "        lastdate = new_posts[-1]['created_utc']\n",
    "\n",
    "        ## Append additional 100 rows to our main list\n",
    "        add3000_posts.append(new_posts)\n",
    "\n",
    "        if i%5==0:\n",
    "            print(f'{100 + (i*100)} of {size + 100}...')\n",
    "\n",
    "\n",
    "\n",
    "    ## Save Data to our main List for (Japanese) Food items\n",
    "\n",
    "    for listofrows in sum(add3000_posts,[]):\n",
    "        data_final[0].append(listofrows)\n",
    "\n",
    "    print(len(data_final[0]))\n",
    "    print('DONE.')\n",
    "    \n",
    "    return data_final[0]"
   ]
  },
  {
   "cell_type": "code",
   "execution_count": 3,
   "metadata": {},
   "outputs": [],
   "source": [
    "def importFoodSubmission(subreddit,size):\n",
    "    \n",
    "    ## Get latest 100 posts\n",
    "    url = 'https://api.pushshift.io/reddit/search/submission'\n",
    "\n",
    "    ## Dataframe to store all JapaneseFood posts\n",
    "    data_final = []\n",
    "\n",
    "    ## Starting Parameters\n",
    "    params = {\n",
    "        'subreddit' : subreddit,\n",
    "        'size' : 100,\n",
    "        }\n",
    "    ## Fetch Data for first 100 rows - max 1 time limit for API\n",
    "    res = requests.get(url,params)\n",
    "    print(res.status_code) ## Test Connection\n",
    "\n",
    "    ## Store data from API (.JSON format) to a list\n",
    "    data = res.json()\n",
    "    posts = data['data'] ## temp. list to store first 100 rows\n",
    "\n",
    "    ## Append first 100 rows to our main dataframe\n",
    "    data_final.append(posts)\n",
    "    \n",
    "    ## Get 3000 additional rows of data, based on time before the time for last post in our first 100 rows\n",
    "\n",
    "    lastdate = posts[-1]['created_utc']\n",
    "\n",
    "    add3000_posts = [] ## temp stores our additional 3000 rows\n",
    "\n",
    "    ## Loop 30 times (100 rows * 30 = 3000 rows)\n",
    "    \n",
    "    to_loop = size // 100\n",
    "    \n",
    "    for i in range(to_loop):\n",
    "\n",
    "        params2 = {\n",
    "        'subreddit' : subreddit,\n",
    "        'size' : 100,\n",
    "        'before' : lastdate ## Grab 100 more posted rows before last 100 rows (based on time).\n",
    "        }\n",
    "\n",
    "        res = requests.get(url,params2)\n",
    "        #print(res.status_code)\n",
    "\n",
    "        data = res.json()\n",
    "        new_posts = data['data']  \n",
    "        #print(len(new_posts))\n",
    "        lastdate = new_posts[-1]['created_utc']\n",
    "\n",
    "        ## Append additional 100 rows to our main list\n",
    "        add3000_posts.append(new_posts)\n",
    "\n",
    "        if i%5==0:\n",
    "            print(f'{100 + (i*100)} of {size + 100}...')\n",
    "\n",
    "\n",
    "\n",
    "    ## Save Data to our main List for (Japanese) Food items\n",
    "\n",
    "    for listofrows in sum(add3000_posts,[]):\n",
    "        data_final[0].append(listofrows)\n",
    "\n",
    "    print(len(data_final[0]))\n",
    "    print('DONE.')\n",
    "    \n",
    "    return data_final[0]"
   ]
  },
  {
   "cell_type": "code",
   "execution_count": 6,
   "metadata": {},
   "outputs": [
    {
     "name": "stdout",
     "output_type": "stream",
     "text": [
      "200\n",
      "100 of 5100...\n",
      "600 of 5100...\n",
      "1100 of 5100...\n",
      "1600 of 5100...\n",
      "2100 of 5100...\n",
      "2600 of 5100...\n",
      "3100 of 5100...\n",
      "3600 of 5100...\n",
      "4100 of 5100...\n",
      "4600 of 5100...\n",
      "5100\n",
      "DONE.\n"
     ]
    }
   ],
   "source": [
    "#japfoodcom2 = importFoodSubmission('JapaneseFood', 5000)"
   ]
  },
  {
   "cell_type": "code",
   "execution_count": 7,
   "metadata": {},
   "outputs": [
    {
     "name": "stdout",
     "output_type": "stream",
     "text": [
      "200\n",
      "100 of 5100...\n",
      "600 of 5100...\n",
      "1100 of 5100...\n",
      "1600 of 5100...\n",
      "2100 of 5100...\n",
      "2600 of 5100...\n",
      "3100 of 5100...\n",
      "3600 of 5100...\n",
      "4100 of 5100...\n",
      "4600 of 5100...\n",
      "5100\n",
      "DONE.\n"
     ]
    }
   ],
   "source": [
    "#japfoodcom = importFoodComments('JapaneseFood', 5000)"
   ]
  },
  {
   "cell_type": "code",
   "execution_count": 8,
   "metadata": {},
   "outputs": [
    {
     "name": "stdout",
     "output_type": "stream",
     "text": [
      "200\n",
      "100 of 5100...\n",
      "600 of 5100...\n",
      "1100 of 5100...\n",
      "1600 of 5100...\n",
      "2100 of 5100...\n",
      "2600 of 5100...\n",
      "3100 of 5100...\n",
      "3600 of 5100...\n",
      "4100 of 5100...\n",
      "4600 of 5100...\n",
      "5100\n",
      "DONE.\n"
     ]
    }
   ],
   "source": [
    "#chifoodcom = importFoodSubmission('chinesefood', 5000)"
   ]
  },
  {
   "cell_type": "code",
   "execution_count": 19,
   "metadata": {},
   "outputs": [
    {
     "name": "stdout",
     "output_type": "stream",
     "text": [
      "200\n",
      "100 of 5100...\n",
      "600 of 5100...\n",
      "1100 of 5100...\n",
      "1600 of 5100...\n",
      "2100 of 5100...\n",
      "2600 of 5100...\n",
      "3100 of 5100...\n",
      "3600 of 5100...\n",
      "4100 of 5100...\n",
      "4600 of 5100...\n",
      "5100\n",
      "DONE.\n"
     ]
    }
   ],
   "source": [
    "#chifoodcom2 = importFoodComments('chinesefood', 5000)"
   ]
  },
  {
   "cell_type": "code",
   "execution_count": 26,
   "metadata": {},
   "outputs": [
    {
     "name": "stdout",
     "output_type": "stream",
     "text": [
      "200\n",
      "100 of 1100...\n",
      "600 of 1100...\n",
      "1100\n",
      "DONE.\n"
     ]
    }
   ],
   "source": [
    "#mexfoodcom = importFoodComments('mexicanfood', 5000)"
   ]
  },
  {
   "cell_type": "code",
   "execution_count": 22,
   "metadata": {},
   "outputs": [
    {
     "name": "stdout",
     "output_type": "stream",
     "text": [
      "200\n",
      "100 of 1100...\n",
      "600 of 1100...\n",
      "1100\n",
      "DONE.\n"
     ]
    }
   ],
   "source": [
    "#mexfoodcom2 = importFoodSubmission('mexicanfood', 5000)"
   ]
  },
  {
   "cell_type": "code",
   "execution_count": null,
   "metadata": {},
   "outputs": [],
   "source": []
  },
  {
   "cell_type": "code",
   "execution_count": 27,
   "metadata": {},
   "outputs": [
    {
     "data": {
      "text/html": [
       "<div>\n",
       "<style scoped>\n",
       "    .dataframe tbody tr th:only-of-type {\n",
       "        vertical-align: middle;\n",
       "    }\n",
       "\n",
       "    .dataframe tbody tr th {\n",
       "        vertical-align: top;\n",
       "    }\n",
       "\n",
       "    .dataframe thead th {\n",
       "        text-align: right;\n",
       "    }\n",
       "</style>\n",
       "<table border=\"1\" class=\"dataframe\">\n",
       "  <thead>\n",
       "    <tr style=\"text-align: right;\">\n",
       "      <th></th>\n",
       "      <th>title</th>\n",
       "    </tr>\n",
       "  </thead>\n",
       "  <tbody>\n",
       "    <tr>\n",
       "      <th>0</th>\n",
       "      <td>Broccoli Cheddar Soup | Broccoli Soup | Homema...</td>\n",
       "    </tr>\n",
       "    <tr>\n",
       "      <th>1</th>\n",
       "      <td>Kaisendon (with ikura and maguro). Super tasty!</td>\n",
       "    </tr>\n",
       "    <tr>\n",
       "      <th>2</th>\n",
       "      <td>I made oyakodon for the first time! Very tasty</td>\n",
       "    </tr>\n",
       "    <tr>\n",
       "      <th>3</th>\n",
       "      <td>Kaisendon, yumminess</td>\n",
       "    </tr>\n",
       "    <tr>\n",
       "      <th>4</th>\n",
       "      <td>Homemade mochi I made today (flavours in comme...</td>\n",
       "    </tr>\n",
       "    <tr>\n",
       "      <th>...</th>\n",
       "      <td>...</td>\n",
       "    </tr>\n",
       "    <tr>\n",
       "      <th>5095</th>\n",
       "      <td>Use it in essentially every Japanese recipe fo...</td>\n",
       "    </tr>\n",
       "    <tr>\n",
       "      <th>5096</th>\n",
       "      <td>You’re doing good work, there is no comparison...</td>\n",
       "    </tr>\n",
       "    <tr>\n",
       "      <th>5097</th>\n",
       "      <td>Just want to say this is beautiful and so well...</td>\n",
       "    </tr>\n",
       "    <tr>\n",
       "      <th>5098</th>\n",
       "      <td>Even more amazing - they look absolutely gorge...</td>\n",
       "    </tr>\n",
       "    <tr>\n",
       "      <th>5099</th>\n",
       "      <td>That's really cool, thanks for your reply. We ...</td>\n",
       "    </tr>\n",
       "  </tbody>\n",
       "</table>\n",
       "<p>10200 rows × 1 columns</p>\n",
       "</div>"
      ],
      "text/plain": [
       "                                                  title\n",
       "0     Broccoli Cheddar Soup | Broccoli Soup | Homema...\n",
       "1       Kaisendon (with ikura and maguro). Super tasty!\n",
       "2        I made oyakodon for the first time! Very tasty\n",
       "3                                  Kaisendon, yumminess\n",
       "4     Homemade mochi I made today (flavours in comme...\n",
       "...                                                 ...\n",
       "5095  Use it in essentially every Japanese recipe fo...\n",
       "5096  You’re doing good work, there is no comparison...\n",
       "5097  Just want to say this is beautiful and so well...\n",
       "5098  Even more amazing - they look absolutely gorge...\n",
       "5099  That's really cool, thanks for your reply. We ...\n",
       "\n",
       "[10200 rows x 1 columns]"
      ]
     },
     "execution_count": 27,
     "metadata": {},
     "output_type": "execute_result"
    }
   ],
   "source": [
    "## Japanese Food - extract titles and add comments as titles too\n",
    "jap_header = pd.DataFrame(japfoodcom2)[['title']]\n",
    "jap_commmm = pd.DataFrame(japfoodcom)[['body']]\n",
    "jap_commmm.rename(columns={'body':'title'},inplace=True)\n",
    "jap_food = pd.concat([jap_header,jap_commmm])\n",
    "jap_food"
   ]
  },
  {
   "cell_type": "code",
   "execution_count": 28,
   "metadata": {},
   "outputs": [
    {
     "data": {
      "text/html": [
       "<div>\n",
       "<style scoped>\n",
       "    .dataframe tbody tr th:only-of-type {\n",
       "        vertical-align: middle;\n",
       "    }\n",
       "\n",
       "    .dataframe tbody tr th {\n",
       "        vertical-align: top;\n",
       "    }\n",
       "\n",
       "    .dataframe thead th {\n",
       "        text-align: right;\n",
       "    }\n",
       "</style>\n",
       "<table border=\"1\" class=\"dataframe\">\n",
       "  <thead>\n",
       "    <tr style=\"text-align: right;\">\n",
       "      <th></th>\n",
       "      <th>title</th>\n",
       "    </tr>\n",
       "  </thead>\n",
       "  <tbody>\n",
       "    <tr>\n",
       "      <th>0</th>\n",
       "      <td>Chengdu delicious food！“Maocai Roasted Duck”, ...</td>\n",
       "    </tr>\n",
       "    <tr>\n",
       "      <th>1</th>\n",
       "      <td>pumpkin pot</td>\n",
       "    </tr>\n",
       "    <tr>\n",
       "      <th>2</th>\n",
       "      <td>Stir fried tomato with scrambled egg</td>\n",
       "    </tr>\n",
       "    <tr>\n",
       "      <th>3</th>\n",
       "      <td>Supper: barbecue.</td>\n",
       "    </tr>\n",
       "    <tr>\n",
       "      <th>4</th>\n",
       "      <td>Spice mix identification</td>\n",
       "    </tr>\n",
       "    <tr>\n",
       "      <th>...</th>\n",
       "      <td>...</td>\n",
       "    </tr>\n",
       "    <tr>\n",
       "      <th>5095</th>\n",
       "      <td>That looks amazing.</td>\n",
       "    </tr>\n",
       "    <tr>\n",
       "      <th>5096</th>\n",
       "      <td>Wanna try making steamed egg? It’s super easy,...</td>\n",
       "    </tr>\n",
       "    <tr>\n",
       "      <th>5097</th>\n",
       "      <td>Hungry</td>\n",
       "    </tr>\n",
       "    <tr>\n",
       "      <th>5098</th>\n",
       "      <td>Haha thanks!!</td>\n",
       "    </tr>\n",
       "    <tr>\n",
       "      <th>5099</th>\n",
       "      <td>It was mixed in — and it doesn’t look like Bol...</td>\n",
       "    </tr>\n",
       "  </tbody>\n",
       "</table>\n",
       "<p>10200 rows × 1 columns</p>\n",
       "</div>"
      ],
      "text/plain": [
       "                                                  title\n",
       "0     Chengdu delicious food！“Maocai Roasted Duck”, ...\n",
       "1                                           pumpkin pot\n",
       "2                  Stir fried tomato with scrambled egg\n",
       "3                                     Supper: barbecue.\n",
       "4                              Spice mix identification\n",
       "...                                                 ...\n",
       "5095                                That looks amazing.\n",
       "5096  Wanna try making steamed egg? It’s super easy,...\n",
       "5097                                             Hungry\n",
       "5098                                      Haha thanks!!\n",
       "5099  It was mixed in — and it doesn’t look like Bol...\n",
       "\n",
       "[10200 rows x 1 columns]"
      ]
     },
     "execution_count": 28,
     "metadata": {},
     "output_type": "execute_result"
    }
   ],
   "source": [
    "## Chinese Food - extract titles and add comments as titles too\n",
    "chi_header = pd.DataFrame(chifoodcom)[['title']]\n",
    "chi_commmm = pd.DataFrame(chifoodcom2)[['body']]\n",
    "chi_commmm.rename(columns={'body':'title'},inplace=True)\n",
    "chi_food = pd.concat([chi_header,chi_commmm])\n",
    "chi_food"
   ]
  },
  {
   "cell_type": "code",
   "execution_count": 32,
   "metadata": {},
   "outputs": [],
   "source": [
    "## Mexican Food - extract titles and add comments as titles too\n",
    "mex_header = pd.DataFrame(mexfoodcom2)[['title']]\n",
    "mex_commmm = pd.DataFrame(mexfoodcom)[['body']]\n",
    "mex_commmm.rename(columns={'body':'title'},inplace=True)\n",
    "mex_food = pd.concat([mex_header,mex_commmm])"
   ]
  },
  {
   "cell_type": "code",
   "execution_count": 30,
   "metadata": {},
   "outputs": [],
   "source": [
    "## Add Lables (Define Categories)\n",
    "jap_food['label'] = 0\n",
    "chi_food['label'] = 1\n",
    "mex_food['label'] = 2"
   ]
  },
  {
   "cell_type": "code",
   "execution_count": 31,
   "metadata": {},
   "outputs": [],
   "source": [
    "## Split into 'train' and 'test' for final evaluation\n",
    "## Train Data\n",
    "jap_food[:10000].to_csv('FoodData//jap_train.csv',index=False)\n",
    "chi_food[:10000].to_csv('FoodData//chi_train.csv',index=False)\n",
    "mex_food[:10000].to_csv('FoodData//mex_train.csv',index=False)\n",
    "\n",
    "\n",
    "## Test Data\n",
    "jap_food[10000:].to_csv('FoodData/jap_test.csv',index=False)\n",
    "chi_food[10000:].to_csv('FoodData/chi_test.csv',index=False)\n",
    "mex_food[10000:].to_csv('FoodData/mex_test.csv',index=False)"
   ]
  },
  {
   "cell_type": "markdown",
   "metadata": {},
   "source": [
    "## Further Data Exploration under separate file"
   ]
  },
  {
   "cell_type": "markdown",
   "metadata": {},
   "source": [
    "[Click here for EDA file](./DataPreprocessingandModelBuilding.ipynb#Comparing-scores-for-all-Models)"
   ]
  }
 ],
 "metadata": {
  "kernelspec": {
   "display_name": "Python 3",
   "language": "python",
   "name": "python3"
  },
  "language_info": {
   "codemirror_mode": {
    "name": "ipython",
    "version": 3
   },
   "file_extension": ".py",
   "mimetype": "text/x-python",
   "name": "python",
   "nbconvert_exporter": "python",
   "pygments_lexer": "ipython3",
   "version": "3.8.5"
  }
 },
 "nbformat": 4,
 "nbformat_minor": 4
}
